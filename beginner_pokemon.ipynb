{
 "cells": [
  {
   "cell_type": "markdown",
   "id": "9a85ce33-8a00-46cc-b063-0a3845883eec",
   "metadata": {},
   "source": [
    "### Basic pandas operations using Pokemon dataset"
   ]
  },
  {
   "cell_type": "code",
   "execution_count": 3,
   "id": "6d37880e-0afd-4f36-bd60-3128dafde0b5",
   "metadata": {},
   "outputs": [],
   "source": [
    "import pandas as pd"
   ]
  },
  {
   "cell_type": "code",
   "execution_count": 9,
   "id": "4cca7f65-b39e-476d-adc2-02e1d71880e1",
   "metadata": {},
   "outputs": [],
   "source": [
    "#Load the Dataset\n",
    "df = pd.read_csv(\"pokemon_data .csv\")"
   ]
  },
  {
   "cell_type": "code",
   "execution_count": 13,
   "id": "a8ddc3f3-0e45-48ad-ae2d-86599cb966ba",
   "metadata": {},
   "outputs": [
    {
     "name": "stdout",
     "output_type": "stream",
     "text": [
      "🔹 First 5 Pokémon:\n",
      "   #                   Name Type 1  Type 2  HP  Attack  Defense  Sp. Atk  \\\n",
      "0  1              Bulbasaur  Grass  Poison  45      49       49       65   \n",
      "1  2                Ivysaur  Grass  Poison  60      62       63       80   \n",
      "2  3               Venusaur  Grass  Poison  80      82       83      100   \n",
      "3  3  VenusaurMega Venusaur  Grass  Poison  80     100      123      122   \n",
      "4  4             Charmander   Fire     NaN  39      52       43       60   \n",
      "\n",
      "   Sp. Def  Speed  Generation  Legendary  \n",
      "0       65     45           1      False  \n",
      "1       80     60           1      False  \n",
      "2      100     80           1      False  \n",
      "3      120     80           1      False  \n",
      "4       50     65           1      False  \n"
     ]
    }
   ],
   "source": [
    "# View first 5 rows\n",
    "print(\"First 5 Pokémon:\")\n",
    "print(df.head())"
   ]
  },
  {
   "cell_type": "code",
   "execution_count": 15,
   "id": "f130b59e-4c1f-47dc-ac23-e79a302990f1",
   "metadata": {},
   "outputs": [
    {
     "name": "stdout",
     "output_type": "stream",
     "text": [
      "\n",
      " Last 3 Pokémon:\n",
      "       #                 Name   Type 1 Type 2  HP  Attack  Defense  Sp. Atk  \\\n",
      "797  720  HoopaHoopa Confined  Psychic  Ghost  80     110       60      150   \n",
      "798  720   HoopaHoopa Unbound  Psychic   Dark  80     160       60      170   \n",
      "799  721            Volcanion     Fire  Water  80     110      120      130   \n",
      "\n",
      "     Sp. Def  Speed  Generation  Legendary  \n",
      "797      130     70           6       True  \n",
      "798      130     80           6       True  \n",
      "799       90     70           6       True  \n"
     ]
    }
   ],
   "source": [
    "# View last 3 rows\n",
    "print(\"\\n Last 3 Pokémon:\")\n",
    "print(df.tail(3))"
   ]
  },
  {
   "cell_type": "code",
   "execution_count": 53,
   "id": "ba8eefb9-486c-4e67-ae9b-af1dece48865",
   "metadata": {},
   "outputs": [
    {
     "name": "stdout",
     "output_type": "stream",
     "text": [
      "\n",
      "Shape (Rows, Columns): (800, 12)\n",
      "\n",
      "Data Types:\n",
      " #             int64\n",
      "Name         object\n",
      "Type 1       object\n",
      "Type 2       object\n",
      "HP            int32\n",
      "Attack        int64\n",
      "Sp. Atk       int64\n",
      "Sp. Def       int64\n",
      "Speed         int64\n",
      "Legendary      bool\n",
      "Total         int64\n",
      "BOOST         int64\n",
      "dtype: object\n",
      "\n",
      "Info:\n",
      "\n",
      "<class 'pandas.core.frame.DataFrame'>\n",
      "RangeIndex: 800 entries, 0 to 799\n",
      "Data columns (total 12 columns):\n",
      " #   Column     Non-Null Count  Dtype \n",
      "---  ------     --------------  ----- \n",
      " 0   #          800 non-null    int64 \n",
      " 1   Name       800 non-null    object\n",
      " 2   Type 1     800 non-null    object\n",
      " 3   Type 2     414 non-null    object\n",
      " 4   HP         800 non-null    int32 \n",
      " 5   Attack     800 non-null    int64 \n",
      " 6   Sp. Atk    800 non-null    int64 \n",
      " 7   Sp. Def    800 non-null    int64 \n",
      " 8   Speed      800 non-null    int64 \n",
      " 9   Legendary  800 non-null    bool  \n",
      " 10  Total      800 non-null    int64 \n",
      " 11  BOOST      800 non-null    int64 \n",
      "dtypes: bool(1), int32(1), int64(7), object(3)\n",
      "memory usage: 66.5+ KB\n"
     ]
    }
   ],
   "source": [
    "print(\"\\nShape (Rows, Columns):\", df.shape)\n",
    "print(\"\\nData Types:\\n\", df.dtypes)\n",
    "print(\"\\nInfo:\\n\")\n",
    "df.info()"
   ]
  },
  {
   "cell_type": "code",
   "execution_count": 17,
   "id": "1b1c2e87-66d5-4101-af31-d447651fc7f8",
   "metadata": {},
   "outputs": [
    {
     "name": "stdout",
     "output_type": "stream",
     "text": [
      "\n",
      "Columns:\n",
      "Index(['#', 'Name', 'Type 1', 'Type 2', 'HP', 'Attack', 'Defense', 'Sp. Atk',\n",
      "       'Sp. Def', 'Speed', 'Generation', 'Legendary'],\n",
      "      dtype='object')\n"
     ]
    }
   ],
   "source": [
    "# Check column names\n",
    "print(\"\\nColumns:\")\n",
    "print(df.columns)"
   ]
  },
  {
   "cell_type": "code",
   "execution_count": 55,
   "id": "892bbfdf-a365-45ab-a953-db7605238bc0",
   "metadata": {},
   "outputs": [
    {
     "name": "stdout",
     "output_type": "stream",
     "text": [
      "\n",
      "Name column:\n",
      " 0                Bulbasaur\n",
      "1                  Ivysaur\n",
      "2                 Venusaur\n",
      "3    VenusaurMega Venusaur\n",
      "4               Charmander\n",
      "Name: Name, dtype: object\n",
      "\n",
      "Name & HP columns:\n",
      "                     Name  HP\n",
      "0              Bulbasaur  45\n",
      "1                Ivysaur  60\n",
      "2               Venusaur  80\n",
      "3  VenusaurMega Venusaur  80\n",
      "4             Charmander  39\n"
     ]
    }
   ],
   "source": [
    "# Read specific columns\n",
    "print(\"\\nName column:\\n\", df['Name'].head())\n",
    "print(\"\\nName & HP columns:\\n\", df[['Name', 'HP']].head())"
   ]
  },
  {
   "cell_type": "code",
   "execution_count": 19,
   "id": "ae96a4b9-9795-4a1e-8fa5-ec3cf2731891",
   "metadata": {},
   "outputs": [
    {
     "name": "stdout",
     "output_type": "stream",
     "text": [
      "\n",
      " First 6 Pokémon names:\n",
      "0                Bulbasaur\n",
      "1                  Ivysaur\n",
      "2                 Venusaur\n",
      "3    VenusaurMega Venusaur\n",
      "4               Charmander\n",
      "5               Charmeleon\n",
      "Name: Name, dtype: object\n"
     ]
    }
   ],
   "source": [
    "# Accessing data\n",
    "print(\"\\n First 6 Pokémon names:\")\n",
    "print(df['Name'][0:6])"
   ]
  },
  {
   "cell_type": "code",
   "execution_count": 23,
   "id": "7f18fc08-904b-4e40-b008-07de2ff07f79",
   "metadata": {},
   "outputs": [
    {
     "name": "stdout",
     "output_type": "stream",
     "text": [
      "\n",
      "Row 1:\n",
      "#                   2\n",
      "Name          Ivysaur\n",
      "Type 1          Grass\n",
      "Type 2         Poison\n",
      "HP                 60\n",
      "Attack             62\n",
      "Defense            63\n",
      "Sp. Atk            80\n",
      "Sp. Def            80\n",
      "Speed              60\n",
      "Generation          1\n",
      "Legendary       False\n",
      "Name: 1, dtype: object\n"
     ]
    }
   ],
   "source": [
    "# Access rows and cells\n",
    "print(\"\\nRow 1:\")\n",
    "print(df.iloc[1])"
   ]
  },
  {
   "cell_type": "code",
   "execution_count": 25,
   "id": "1a23871c-aa2b-4eb7-bf56-7a32c2ea94d9",
   "metadata": {},
   "outputs": [
    {
     "name": "stdout",
     "output_type": "stream",
     "text": [
      "\n",
      "Name of Row 1 Pokémon:\n",
      "Ivysaur\n"
     ]
    }
   ],
   "source": [
    "print(\"\\nName of Row 1 Pokémon:\")\n",
    "print(df.iloc[1, 1])"
   ]
  },
  {
   "cell_type": "code",
   "execution_count": 27,
   "id": "23466595-b94d-4cf1-b365-353b7ebf35d8",
   "metadata": {},
   "outputs": [
    {
     "name": "stdout",
     "output_type": "stream",
     "text": [
      "                    Name    Type 2  HP\n",
      "277            Combusken  Fighting  60\n",
      "310              Breloom  Fighting  60\n",
      "436             Monferno  Fighting  64\n",
      "476  LopunnyMega Lopunny  Fighting  65\n",
      "503             Croagunk  Fighting  48\n",
      "526              Gallade  Fighting  68\n",
      "527  GalladeMega Gallade  Fighting  68\n",
      "620              Scraggy  Fighting  50\n",
      "621              Scrafty  Fighting  65\n"
     ]
    }
   ],
   "source": [
    "# Filter Pokémon with 'Fighting' as Type 2 and HP < 70\n",
    "filtered = df[(df['Type 2'] == \"Fighting\") & (df['HP'] < 70)]\n",
    "print(filtered[['Name', 'Type 2', 'HP']])"
   ]
  },
  {
   "cell_type": "code",
   "execution_count": 29,
   "id": "a12d6c29-ed0f-489c-b8ed-696fa3e31993",
   "metadata": {},
   "outputs": [
    {
     "name": "stdout",
     "output_type": "stream",
     "text": [
      "\n",
      "Description:\n",
      "                #          HP      Attack     Defense     Sp. Atk     Sp. Def  \\\n",
      "count  800.000000  800.000000  800.000000  800.000000  800.000000  800.000000   \n",
      "mean   362.813750   69.258750   79.001250   73.842500   72.820000   71.902500   \n",
      "std    208.343798   25.534669   32.457366   31.183501   32.722294   27.828916   \n",
      "min      1.000000    1.000000    5.000000    5.000000   10.000000   20.000000   \n",
      "25%    184.750000   50.000000   55.000000   50.000000   49.750000   50.000000   \n",
      "50%    364.500000   65.000000   75.000000   70.000000   65.000000   70.000000   \n",
      "75%    539.250000   80.000000  100.000000   90.000000   95.000000   90.000000   \n",
      "max    721.000000  255.000000  190.000000  230.000000  194.000000  230.000000   \n",
      "\n",
      "            Speed  Generation  \n",
      "count  800.000000   800.00000  \n",
      "mean    68.277500     3.32375  \n",
      "std     29.060474     1.66129  \n",
      "min      5.000000     1.00000  \n",
      "25%     45.000000     2.00000  \n",
      "50%     65.000000     3.00000  \n",
      "75%     90.000000     5.00000  \n",
      "max    180.000000     6.00000  \n"
     ]
    }
   ],
   "source": [
    "# Stats summary\n",
    "print(\"\\nDescription:\")\n",
    "print(df.describe())"
   ]
  },
  {
   "cell_type": "code",
   "execution_count": 57,
   "id": "453f60b9-fde6-4701-baa8-4f2b2df01d44",
   "metadata": {},
   "outputs": [
    {
     "name": "stdout",
     "output_type": "stream",
     "text": [
      "\n",
      "New column added:\n",
      "                     Name  Total\n",
      "0              Bulbasaur    139\n",
      "1                Ivysaur    182\n",
      "2               Venusaur    242\n",
      "3  VenusaurMega Venusaur    260\n",
      "4             Charmander    156\n"
     ]
    }
   ],
   "source": [
    "#  Add a column 'Total'(HP + Attack + Speed)\n",
    "df['Total'] = df['HP'] + df['Attack'] + df['Speed']\n",
    "print(\"\\nNew column added:\\n\", df[['Name', 'Total',]].head())"
   ]
  },
  {
   "cell_type": "code",
   "execution_count": 35,
   "id": "71b0a67d-a807-4fb5-92a4-290b2b455736",
   "metadata": {},
   "outputs": [
    {
     "name": "stdout",
     "output_type": "stream",
     "text": [
      "Name     MewtwoMega Mewtwo X\n",
      "Total                    426\n",
      "Name: 163, dtype: object\n",
      "Name     Shuckle\n",
      "Total         35\n",
      "Name: 230, dtype: object\n"
     ]
    }
   ],
   "source": [
    "# Pokémon with max and lowest Total stat\n",
    "print(df.loc[df['Total'].idxmax()][['Name', 'Total']])\n",
    "print(df.loc[df['Total'].idxmin()][['Name', 'Total']])"
   ]
  },
  {
   "cell_type": "code",
   "execution_count": 37,
   "id": "afdd8807-69c2-4083-8b49-26447446f6c2",
   "metadata": {},
   "outputs": [
    {
     "name": "stdout",
     "output_type": "stream",
     "text": [
      "                      Name  Total  Speed\n",
      "163    MewtwoMega Mewtwo X    426    130\n",
      "313                Slaking    410    100\n",
      "426  RayquazaMega Rayquaza    400    115\n",
      "164    MewtwoMega Mewtwo Y    396    140\n",
      "711     KyuremBlack Kyurem    390     95\n",
      "          Name  Total  Speed\n",
      "230    Shuckle     35      5\n",
      "189     Togepi     75     20\n",
      "388    Duskull     85     25\n",
      "446  Kricketot     87     25\n",
      "187     Cleffa     90     15\n"
     ]
    }
   ],
   "source": [
    "# Top 5 Pokémon by Total stat\n",
    "print(df.nlargest(5, 'Total')[['Name', 'Total', 'Speed']])\n",
    "\n",
    "print(df.nsmallest(5, 'Total')[['Name', 'Total', 'Speed']])"
   ]
  },
  {
   "cell_type": "code",
   "execution_count": 39,
   "id": "421d3290-5eb6-460c-9686-3738d39ff46f",
   "metadata": {},
   "outputs": [],
   "source": [
    "# Drop unwanted columns\n",
    "df.drop(columns=['Generation', 'Defense'], inplace=True)"
   ]
  },
  {
   "cell_type": "code",
   "execution_count": 59,
   "id": "eb883f25-15df-4017-8f9c-107c290c6b75",
   "metadata": {},
   "outputs": [
    {
     "name": "stdout",
     "output_type": "stream",
     "text": [
      "\n",
      "Missing values:\n",
      " #              0\n",
      "Name           0\n",
      "Type 1         0\n",
      "Type 2       386\n",
      "HP             0\n",
      "Attack         0\n",
      "Sp. Atk        0\n",
      "Sp. Def        0\n",
      "Speed          0\n",
      "Legendary      0\n",
      "Total          0\n",
      "BOOST          0\n",
      "dtype: int64\n"
     ]
    }
   ],
   "source": [
    "# Handle nulls\n",
    "print(\"\\nMissing values:\\n\", df.isnull().sum())\n",
    "df['HP'] = df['HP'].fillna(0)  # Fill HP nulls\n",
    "df.dropna(inplace=True)        # Drop remaining rows with NaN"
   ]
  },
  {
   "cell_type": "code",
   "execution_count": 41,
   "id": "a743cdbe-a560-448f-bac2-594894c57699",
   "metadata": {},
   "outputs": [
    {
     "name": "stdout",
     "output_type": "stream",
     "text": [
      "                    Name  HP  Attack  Power\n",
      "0              Bulbasaur  45      49     94\n",
      "1                Ivysaur  60      62    122\n",
      "2               Venusaur  80      82    162\n",
      "3  VenusaurMega Venusaur  80     100    180\n",
      "4             Charmander  39      52     91\n"
     ]
    }
   ],
   "source": [
    "# Add 'Power' (HP + Attack)\n",
    "df['Power'] = df['HP'] + df['Attack']\n",
    "print(df[['Name', 'HP', 'Attack', 'Power']].head())"
   ]
  },
  {
   "cell_type": "code",
   "execution_count": 43,
   "id": "49c1705b-5a0b-48a2-92fd-f96ab161bafd",
   "metadata": {},
   "outputs": [],
   "source": [
    "# Drop rows where value of HP is null\n",
    "df = df.dropna(subset = ['HP'])"
   ]
  },
  {
   "cell_type": "code",
   "execution_count": 45,
   "id": "46db078e-4737-4f78-9244-a5d822fb09bb",
   "metadata": {},
   "outputs": [],
   "source": [
    "# Rename column Name\n",
    "df.rename(columns = {'Power':'BOOST'}, inplace = True)"
   ]
  },
  {
   "cell_type": "code",
   "execution_count": 61,
   "id": "acccf137-df17-463c-96ba-a5614070a79f",
   "metadata": {},
   "outputs": [],
   "source": [
    "# Drop duplicates\n",
    "df.drop_duplicates(subset='Name', inplace=True)"
   ]
  },
  {
   "cell_type": "code",
   "execution_count": 47,
   "id": "f2e0d39b-9c82-4cd7-b72f-5098f143f050",
   "metadata": {},
   "outputs": [],
   "source": [
    "# Change datatype\n",
    "df['HP'] = df['HP'].astype('int')"
   ]
  },
  {
   "cell_type": "code",
   "execution_count": 49,
   "id": "2d65d83e-633b-4645-80f2-54d384155820",
   "metadata": {},
   "outputs": [
    {
     "data": {
      "text/html": [
       "<div>\n",
       "<style scoped>\n",
       "    .dataframe tbody tr th:only-of-type {\n",
       "        vertical-align: middle;\n",
       "    }\n",
       "\n",
       "    .dataframe tbody tr th {\n",
       "        vertical-align: top;\n",
       "    }\n",
       "\n",
       "    .dataframe thead th {\n",
       "        text-align: right;\n",
       "    }\n",
       "</style>\n",
       "<table border=\"1\" class=\"dataframe\">\n",
       "  <thead>\n",
       "    <tr style=\"text-align: right;\">\n",
       "      <th></th>\n",
       "      <th>#</th>\n",
       "      <th>Name</th>\n",
       "      <th>Type 1</th>\n",
       "      <th>Type 2</th>\n",
       "      <th>HP</th>\n",
       "      <th>Attack</th>\n",
       "      <th>Sp. Atk</th>\n",
       "      <th>Sp. Def</th>\n",
       "      <th>Speed</th>\n",
       "      <th>Legendary</th>\n",
       "      <th>Total</th>\n",
       "      <th>BOOST</th>\n",
       "    </tr>\n",
       "  </thead>\n",
       "  <tbody>\n",
       "  </tbody>\n",
       "</table>\n",
       "</div>"
      ],
      "text/plain": [
       "Empty DataFrame\n",
       "Columns: [#, Name, Type 1, Type 2, HP, Attack, Sp. Atk, Sp. Def, Speed, Legendary, Total, BOOST]\n",
       "Index: []"
      ]
     },
     "execution_count": 49,
     "metadata": {},
     "output_type": "execute_result"
    }
   ],
   "source": [
    "# View duplicated values\n",
    "df[df.duplicated()]"
   ]
  },
  {
   "cell_type": "code",
   "execution_count": 63,
   "id": "8f9931a8-549f-43c1-bb05-55d4f65ba4eb",
   "metadata": {},
   "outputs": [
    {
     "data": {
      "text/html": [
       "<div>\n",
       "<style scoped>\n",
       "    .dataframe tbody tr th:only-of-type {\n",
       "        vertical-align: middle;\n",
       "    }\n",
       "\n",
       "    .dataframe tbody tr th {\n",
       "        vertical-align: top;\n",
       "    }\n",
       "\n",
       "    .dataframe thead th {\n",
       "        text-align: right;\n",
       "    }\n",
       "</style>\n",
       "<table border=\"1\" class=\"dataframe\">\n",
       "  <thead>\n",
       "    <tr style=\"text-align: right;\">\n",
       "      <th></th>\n",
       "      <th>#</th>\n",
       "      <th>Name</th>\n",
       "      <th>Type 1</th>\n",
       "      <th>Type 2</th>\n",
       "      <th>HP</th>\n",
       "      <th>Attack</th>\n",
       "      <th>Sp. Atk</th>\n",
       "      <th>Sp. Def</th>\n",
       "      <th>Speed</th>\n",
       "      <th>Legendary</th>\n",
       "      <th>Total</th>\n",
       "      <th>BOOST</th>\n",
       "    </tr>\n",
       "  </thead>\n",
       "  <tbody>\n",
       "    <tr>\n",
       "      <th>0</th>\n",
       "      <td>1</td>\n",
       "      <td>Bulbasaur</td>\n",
       "      <td>Grass</td>\n",
       "      <td>Poison</td>\n",
       "      <td>45</td>\n",
       "      <td>49</td>\n",
       "      <td>65</td>\n",
       "      <td>65</td>\n",
       "      <td>45</td>\n",
       "      <td>False</td>\n",
       "      <td>139</td>\n",
       "      <td>94</td>\n",
       "    </tr>\n",
       "    <tr>\n",
       "      <th>1</th>\n",
       "      <td>2</td>\n",
       "      <td>Ivysaur</td>\n",
       "      <td>Grass</td>\n",
       "      <td>Poison</td>\n",
       "      <td>60</td>\n",
       "      <td>62</td>\n",
       "      <td>80</td>\n",
       "      <td>80</td>\n",
       "      <td>60</td>\n",
       "      <td>False</td>\n",
       "      <td>182</td>\n",
       "      <td>122</td>\n",
       "    </tr>\n",
       "    <tr>\n",
       "      <th>2</th>\n",
       "      <td>3</td>\n",
       "      <td>Venusaur</td>\n",
       "      <td>Grass</td>\n",
       "      <td>Poison</td>\n",
       "      <td>80</td>\n",
       "      <td>82</td>\n",
       "      <td>100</td>\n",
       "      <td>100</td>\n",
       "      <td>80</td>\n",
       "      <td>False</td>\n",
       "      <td>242</td>\n",
       "      <td>162</td>\n",
       "    </tr>\n",
       "    <tr>\n",
       "      <th>3</th>\n",
       "      <td>3</td>\n",
       "      <td>VenusaurMega Venusaur</td>\n",
       "      <td>Grass</td>\n",
       "      <td>Poison</td>\n",
       "      <td>80</td>\n",
       "      <td>100</td>\n",
       "      <td>122</td>\n",
       "      <td>120</td>\n",
       "      <td>80</td>\n",
       "      <td>False</td>\n",
       "      <td>260</td>\n",
       "      <td>180</td>\n",
       "    </tr>\n",
       "    <tr>\n",
       "      <th>4</th>\n",
       "      <td>6</td>\n",
       "      <td>Charizard</td>\n",
       "      <td>Fire</td>\n",
       "      <td>Flying</td>\n",
       "      <td>78</td>\n",
       "      <td>84</td>\n",
       "      <td>109</td>\n",
       "      <td>85</td>\n",
       "      <td>100</td>\n",
       "      <td>False</td>\n",
       "      <td>262</td>\n",
       "      <td>162</td>\n",
       "    </tr>\n",
       "    <tr>\n",
       "      <th>...</th>\n",
       "      <td>...</td>\n",
       "      <td>...</td>\n",
       "      <td>...</td>\n",
       "      <td>...</td>\n",
       "      <td>...</td>\n",
       "      <td>...</td>\n",
       "      <td>...</td>\n",
       "      <td>...</td>\n",
       "      <td>...</td>\n",
       "      <td>...</td>\n",
       "      <td>...</td>\n",
       "      <td>...</td>\n",
       "    </tr>\n",
       "    <tr>\n",
       "      <th>409</th>\n",
       "      <td>719</td>\n",
       "      <td>Diancie</td>\n",
       "      <td>Rock</td>\n",
       "      <td>Fairy</td>\n",
       "      <td>50</td>\n",
       "      <td>100</td>\n",
       "      <td>100</td>\n",
       "      <td>150</td>\n",
       "      <td>50</td>\n",
       "      <td>True</td>\n",
       "      <td>200</td>\n",
       "      <td>150</td>\n",
       "    </tr>\n",
       "    <tr>\n",
       "      <th>410</th>\n",
       "      <td>719</td>\n",
       "      <td>DiancieMega Diancie</td>\n",
       "      <td>Rock</td>\n",
       "      <td>Fairy</td>\n",
       "      <td>50</td>\n",
       "      <td>160</td>\n",
       "      <td>160</td>\n",
       "      <td>110</td>\n",
       "      <td>110</td>\n",
       "      <td>True</td>\n",
       "      <td>320</td>\n",
       "      <td>210</td>\n",
       "    </tr>\n",
       "    <tr>\n",
       "      <th>411</th>\n",
       "      <td>720</td>\n",
       "      <td>HoopaHoopa Confined</td>\n",
       "      <td>Psychic</td>\n",
       "      <td>Ghost</td>\n",
       "      <td>80</td>\n",
       "      <td>110</td>\n",
       "      <td>150</td>\n",
       "      <td>130</td>\n",
       "      <td>70</td>\n",
       "      <td>True</td>\n",
       "      <td>260</td>\n",
       "      <td>190</td>\n",
       "    </tr>\n",
       "    <tr>\n",
       "      <th>412</th>\n",
       "      <td>720</td>\n",
       "      <td>HoopaHoopa Unbound</td>\n",
       "      <td>Psychic</td>\n",
       "      <td>Dark</td>\n",
       "      <td>80</td>\n",
       "      <td>160</td>\n",
       "      <td>170</td>\n",
       "      <td>130</td>\n",
       "      <td>80</td>\n",
       "      <td>True</td>\n",
       "      <td>320</td>\n",
       "      <td>240</td>\n",
       "    </tr>\n",
       "    <tr>\n",
       "      <th>413</th>\n",
       "      <td>721</td>\n",
       "      <td>Volcanion</td>\n",
       "      <td>Fire</td>\n",
       "      <td>Water</td>\n",
       "      <td>80</td>\n",
       "      <td>110</td>\n",
       "      <td>130</td>\n",
       "      <td>90</td>\n",
       "      <td>70</td>\n",
       "      <td>True</td>\n",
       "      <td>260</td>\n",
       "      <td>190</td>\n",
       "    </tr>\n",
       "  </tbody>\n",
       "</table>\n",
       "<p>414 rows × 12 columns</p>\n",
       "</div>"
      ],
      "text/plain": [
       "       #                   Name   Type 1  Type 2  HP  Attack  Sp. Atk  \\\n",
       "0      1              Bulbasaur    Grass  Poison  45      49       65   \n",
       "1      2                Ivysaur    Grass  Poison  60      62       80   \n",
       "2      3               Venusaur    Grass  Poison  80      82      100   \n",
       "3      3  VenusaurMega Venusaur    Grass  Poison  80     100      122   \n",
       "4      6              Charizard     Fire  Flying  78      84      109   \n",
       "..   ...                    ...      ...     ...  ..     ...      ...   \n",
       "409  719                Diancie     Rock   Fairy  50     100      100   \n",
       "410  719    DiancieMega Diancie     Rock   Fairy  50     160      160   \n",
       "411  720    HoopaHoopa Confined  Psychic   Ghost  80     110      150   \n",
       "412  720     HoopaHoopa Unbound  Psychic    Dark  80     160      170   \n",
       "413  721              Volcanion     Fire   Water  80     110      130   \n",
       "\n",
       "     Sp. Def  Speed  Legendary  Total  BOOST  \n",
       "0         65     45      False    139     94  \n",
       "1         80     60      False    182    122  \n",
       "2        100     80      False    242    162  \n",
       "3        120     80      False    260    180  \n",
       "4         85    100      False    262    162  \n",
       "..       ...    ...        ...    ...    ...  \n",
       "409      150     50       True    200    150  \n",
       "410      110    110       True    320    210  \n",
       "411      130     70       True    260    190  \n",
       "412      130     80       True    320    240  \n",
       "413       90     70       True    260    190  \n",
       "\n",
       "[414 rows x 12 columns]"
      ]
     },
     "execution_count": 63,
     "metadata": {},
     "output_type": "execute_result"
    }
   ],
   "source": [
    "df.reset_index(drop = True)"
   ]
  },
  {
   "cell_type": "code",
   "execution_count": 65,
   "id": "0e5ad6e3-ef1d-4601-8e73-dc5fe71138b6",
   "metadata": {},
   "outputs": [],
   "source": [
    "# Export cleaned version\n",
    "df.to_csv('pokemon_cleaned_basic.csv', index=False)"
   ]
  },
  {
   "cell_type": "code",
   "execution_count": 67,
   "id": "263b3d94-8d6b-4186-8968-6251fbca2e4c",
   "metadata": {},
   "outputs": [
    {
     "name": "stdout",
     "output_type": "stream",
     "text": [
      "\n",
      " Basic pandas operations done!\n"
     ]
    }
   ],
   "source": [
    "print(\"\\n Basic pandas operations done!\")"
   ]
  }
 ],
 "metadata": {
  "kernelspec": {
   "display_name": "Python 3 (ipykernel)",
   "language": "python",
   "name": "python3"
  },
  "language_info": {
   "codemirror_mode": {
    "name": "ipython",
    "version": 3
   },
   "file_extension": ".py",
   "mimetype": "text/x-python",
   "name": "python",
   "nbconvert_exporter": "python",
   "pygments_lexer": "ipython3",
   "version": "3.12.7"
  }
 },
 "nbformat": 4,
 "nbformat_minor": 5
}
